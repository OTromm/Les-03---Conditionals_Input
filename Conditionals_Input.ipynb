{
 "cells": [
  {
   "cell_type": "markdown",
   "metadata": {},
   "source": [
    "# Conditionals\n",
    "---\n",
    "`Conditionals` zijn uitdrukkingen die `True` (waar) of `False` (niet waar) kunnen zijn. Om deze uitdrukkingen te kunnen maken, maken we gebruik van de verschillende `operators`:\n",
    "- `>`. Groter dan. Voorbeeld: 8 > 2. 8 Is inderdaad groter dan 2, dus dit is waar.\n",
    "- `<`. Kleiner dan. Voorbeeld 2 < 8. 2 is inderdaag kleiner dan 8, dus dit is waar.\n",
    "- `==`. Gelijk. Voorbeeld 8 == 8. 8 is inderdaad gelijk aan 8, dus dit is waar.\n",
    "\n",
    "Bekijk de voorbeelden hieronder maar eens:"
   ]
  },
  {
   "cell_type": "code",
   "execution_count": null,
   "metadata": {},
   "outputs": [],
   "source": [
    "x = 10 < 100 #10 is kleiner dan 100, dus dit is waar\n",
    "print(\"x = \" + str(x))\n",
    "y = 10 > 5 #10 is groter dan 5, dus dit is waar\n",
    "print(\"y = \" + str(y))\n",
    "z = 10 == 10 #10 is gelijk aan 10, dus dit is waar\n",
    "print(\"z = \" + str(z))"
   ]
  },
  {
   "cell_type": "markdown",
   "metadata": {},
   "source": [
    "## Input in Python\n",
    "\n",
    "Om `Input` te krijgen in Python moet je gebruik maken van de `input()` 'functie'. Wat een functie precies is gaan we bespreken in periode 3. Wat belangrijk is, is dat je `input()` precies schrijft zoals het hier staat. **INCLUSIEF ()**.  `Input` wordt altijd gebruik om **in** een variabelen opgeslagen te worden. Je hebt dus **altijd** `input()` na een `=` teken van een variabelen staan.\n",
    "\n",
    "Zodra je `input()` gebruikt in een variabelen, dan wordt deze variabelen **altijd** een **String** waarde. Dit betekent dus dat je moet oppassen hoe je je variabelen moet gebruiken. Hier hoef je nu nog geen rekening mee te houden.\n",
    "\n",
    "### Probeer de onderstaande code eens uit!\n",
    "Elke regel wordt stap voor stap uitgevoerd. Dus de `Output` komt onder de `Code Block` te staan. Maar de input moet je bovenin je scherm invullen. Zodra die ingevuld is ga het programma verder.\n"
   ]
  },
  {
   "cell_type": "code",
   "execution_count": null,
   "metadata": {},
   "outputs": [],
   "source": [
    "#VOORBEELD\n",
    "print(\"Wat is je naam?\") #Vraag de gebruiker om zijn/haar naam\n",
    "naam = input() #Sla de Input van de gebruiker op in de naam variabelen\n",
    "print(\"Hallo \" + naam) #Gebruik de naam variabelen om hallo tegen de gebruiker te zeggen"
   ]
  },
  {
   "cell_type": "markdown",
   "metadata": {},
   "source": [
    "# Opdrachten\n",
    "In de onderstaande opdrachten is het de bedoeling dat de `uitdrukking` een bepaalde uitkomst heeft. Let goed op wat je moet gebruiken om die uitkomst te bereiken.\n",
    "\n",
    "Dit kan gebruik maken van `Variabelen`, of gebruik maken van `Input` zijn"
   ]
  },
  {
   "cell_type": "markdown",
   "metadata": {},
   "source": [
    "### Voorbeeld 1:\n",
    "\n",
    "Zorg dat de uitkomst van de uitdrukking `True` is."
   ]
  },
  {
   "cell_type": "code",
   "execution_count": null,
   "metadata": {},
   "outputs": [],
   "source": [
    "x = \n",
    "\n",
    "print(x < 10)"
   ]
  },
  {
   "cell_type": "markdown",
   "metadata": {},
   "source": [
    "We zien dus dat de uitdrukking `x < 10` is. Dit betekend dat we `x` een waarde **lager** moeten geven dan 10. Bijvoorbeeld 5"
   ]
  },
  {
   "cell_type": "code",
   "execution_count": null,
   "metadata": {},
   "outputs": [],
   "source": [
    "x = 5\n",
    "\n",
    "print(x < 10)"
   ]
  },
  {
   "cell_type": "markdown",
   "metadata": {},
   "source": [
    "### Voorbeeld 2\n",
    "Zorg dat de uitkomst van de uitdrukking `TrueDoei` is, door gebruik te maken van een `input()`."
   ]
  },
  {
   "cell_type": "code",
   "execution_count": null,
   "metadata": {},
   "outputs": [],
   "source": [
    "x = True\n",
    "y = \n",
    "\n",
    "print(str(x) + y) # <-- De uitdrukking"
   ]
  },
  {
   "cell_type": "markdown",
   "metadata": {},
   "source": [
    "*Wederom kijken we weer naar de uitdrukking en uit welke onderdelen deze bestaat. Zo kan je zien dat `TrueDoei` uit 2 verschillende onderdelen bestaat, namelijk `True` & `Doei`.*\n",
    "\n",
    "*Verder zien we dat de variabelen al zijn aangemaakt maar nog geen waardes hebben. We zien dat het eerste gedeelte van de uitkomst `True` moet zijn. Dit komt goed voor ons uit want `True` is een `boolean` waarde (weet je niet wat een boolean waarde is? Lees dan even het stukje hierboven nog een keer goed door!). We weten dus dat de variabelen `x` de waarde `True` moet krijgen.*\n",
    "\n",
    "*Vervolgens moeten we gebruik maken van een `input()`. De waarde van deze `input()` wordt pas bepaald zodra we het programma uit gaan voeren. Dus daar hoeven we in de code nog geen rekening mee te houden.*"
   ]
  },
  {
   "cell_type": "code",
   "execution_count": null,
   "metadata": {},
   "outputs": [],
   "source": [
    "x = True\n",
    "y = input()\n",
    "\n",
    "print(str(x) + y) # <-- De uitdrukking"
   ]
  },
  {
   "cell_type": "markdown",
   "metadata": {},
   "source": [
    "### Opdracht 1\n",
    "Zorg dat de uitkomst van de uitdrukking `Doei` is door gebruik te maken van `input()`."
   ]
  },
  {
   "cell_type": "code",
   "execution_count": null,
   "metadata": {},
   "outputs": [],
   "source": [
    "x = \n",
    "print(x) # <-- De uitdrukking"
   ]
  },
  {
   "cell_type": "markdown",
   "metadata": {},
   "source": [
    "### Opdracht 2\n",
    "Zorg dat de uitkomst van de uitdrukking `25` is door gebruik te maken van `input()`"
   ]
  },
  {
   "cell_type": "code",
   "execution_count": null,
   "metadata": {},
   "outputs": [],
   "source": [
    "x = \n",
    "y = \n",
    "\n",
    "print(int(x) * int(y)) # <-- De uitdrukking"
   ]
  },
  {
   "cell_type": "markdown",
   "metadata": {},
   "source": [
    "### Opdracht 3\n",
    "Zorg dat de uitkomst van de uitdrukking `Hallo + je naam` is door gebruik te maken van een `input()`\n"
   ]
  },
  {
   "cell_type": "code",
   "execution_count": null,
   "metadata": {},
   "outputs": [],
   "source": [
    "x = \n",
    "y = \n",
    "\n",
    "print(x + y)"
   ]
  },
  {
   "cell_type": "markdown",
   "metadata": {},
   "source": [
    "### Opdracht 4:\n",
    "Zorg dat de uitkomst van de uitdrukking `True` is."
   ]
  },
  {
   "cell_type": "code",
   "execution_count": null,
   "metadata": {},
   "outputs": [],
   "source": [
    "x = \n",
    "print(x == 42)"
   ]
  },
  {
   "cell_type": "markdown",
   "metadata": {},
   "source": [
    "### Opdracht 5:\n",
    "Zorg dat de uitkomst van de uitdrukking `True` is."
   ]
  },
  {
   "cell_type": "code",
   "execution_count": null,
   "metadata": {},
   "outputs": [],
   "source": [
    "x = \n",
    "print(x > 1000)"
   ]
  },
  {
   "cell_type": "markdown",
   "metadata": {},
   "source": [
    "### Opdracht 6:\n",
    "Zorg dat de uitkomst van de uitdrukking `False` is."
   ]
  },
  {
   "cell_type": "code",
   "execution_count": null,
   "metadata": {},
   "outputs": [],
   "source": [
    "x = \n",
    "print(x < 10)"
   ]
  },
  {
   "cell_type": "markdown",
   "metadata": {},
   "source": [
    "### Opdracht 7:\n",
    "Zorg dat de uitkomst van de uitdrukking `False` is."
   ]
  },
  {
   "cell_type": "code",
   "execution_count": null,
   "metadata": {},
   "outputs": [],
   "source": [
    "x = \n",
    "y = \n",
    "print(x == y)"
   ]
  },
  {
   "cell_type": "markdown",
   "metadata": {},
   "source": [
    "### Opdracht 8:\n",
    "Zorg dat de uitkomst van de uitdrukking `True` is."
   ]
  },
  {
   "cell_type": "code",
   "execution_count": null,
   "metadata": {},
   "outputs": [],
   "source": [
    "x = \n",
    "print(x * 5 == 10)"
   ]
  },
  {
   "cell_type": "markdown",
   "metadata": {},
   "source": [
    "### Opdracht 9:\n",
    "Zorg dat de uitkomst van de uitdrukking `False` is."
   ]
  },
  {
   "cell_type": "code",
   "execution_count": null,
   "metadata": {},
   "outputs": [],
   "source": [
    "\n",
    "\n",
    "print(x * 10 > 2000)"
   ]
  },
  {
   "cell_type": "markdown",
   "metadata": {},
   "source": [
    "### Opdracht 10:\n",
    "Zorg dat de uitkomst van de uitdrukking `True` is."
   ]
  },
  {
   "cell_type": "code",
   "execution_count": null,
   "metadata": {},
   "outputs": [],
   "source": [
    "x = \n",
    "y = \n",
    "\n",
    "print(x + y < 1)"
   ]
  },
  {
   "cell_type": "markdown",
   "metadata": {},
   "source": [
    "### Opdracht 11:\n",
    "Zorg dat de uitkomst van de uitdrukking `True` is."
   ]
  },
  {
   "cell_type": "code",
   "execution_count": null,
   "metadata": {},
   "outputs": [],
   "source": [
    "x = \n",
    "y = \n",
    "z = \n",
    "\n",
    "print(x + y - z > 10)"
   ]
  },
  {
   "cell_type": "markdown",
   "metadata": {},
   "source": [
    "### Opdracht 12:\n",
    "Zorg dat de uitkomst van de uitdrukking `True` is met behulp van `input()`."
   ]
  },
  {
   "cell_type": "code",
   "execution_count": null,
   "metadata": {},
   "outputs": [],
   "source": [
    "x = \n",
    "\n",
    "print(int(x) > 10)"
   ]
  }
 ],
 "metadata": {
  "language_info": {
   "name": "python"
  },
  "orig_nbformat": 4
 },
 "nbformat": 4,
 "nbformat_minor": 2
}
